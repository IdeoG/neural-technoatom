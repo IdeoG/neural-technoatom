{
 "cells": [
  {
   "cell_type": "markdown",
   "metadata": {},
   "source": [
    "<img src=\"./imgs/1.jpg\" width=500>\n",
    "\n",
    "# Напомню Backprop\n",
    "\n",
    "<img src=\"./imgs/2.png\" width=500>\n",
    "\n",
    "Для вычисления производную $\\large \\frac{\\partial L}{\\partial x}$ нам нужно:\n",
    "1. Получить с предыдущего шага производную $\\large \\frac{\\partial L}{\\partial z}$\n",
    "2. Вычислить $\\large \\frac{\\partial z}{\\partial x}$\n",
    "3. Высислить $\\large \\frac{\\partial L}{\\partial x} = \\frac{\\partial L}{\\partial z} \\frac{\\partial z}{\\partial x}$\n",
    "\n",
    "Далее обновляем веса по алгоритму SGD:\n",
    "$$\n",
    "\\large\n",
    "x = x - \\lambda \\frac{\\partial L}{\\partial x}\n",
    "$$"
   ]
  },
  {
   "cell_type": "markdown",
   "metadata": {},
   "source": [
    "# Разбор решения прошлого семинара"
   ]
  },
  {
   "cell_type": "markdown",
   "metadata": {},
   "source": [
    "# Minibatch SGD"
   ]
  },
  {
   "cell_type": "markdown",
   "metadata": {},
   "source": [
    "Классический SGD:\n",
    "$$\n",
    "\\large\n",
    "x = x - \\lambda \\frac{\\partial L}{\\partial x}\n",
    "$$\n",
    "\n",
    "Mini-batch SGD\n",
    "$$\n",
    "\\large\n",
    "x = x - \\lambda \\frac{1}{B} \\sum_{i=1}^{B}\\frac{\\partial L_i}{\\partial x}\n",
    "$$\n",
    "\n",
    "Мотивация:\n",
    "- Векторизация и утилизация GPU\n",
    "- Ускорение обучения\n",
    "<img src=\"./imgs/3.gif\" width=500>\n"
   ]
  },
  {
   "cell_type": "markdown",
   "metadata": {},
   "source": [
    "# Продвинутые методы оптимизации"
   ]
  },
  {
   "cell_type": "markdown",
   "metadata": {},
   "source": [
    "## SGD + Momentum"
   ]
  },
  {
   "cell_type": "markdown",
   "metadata": {},
   "source": [
    "$$\n",
    "\\Large\n",
    "\\begin{align}\n",
    "m &= \\alpha m+ (1 - \\alpha) \\nabla_{\\theta} L \\\\\n",
    "\\theta &= \\theta - \\lambda m\n",
    "\\end{align}\n",
    "$$\n",
    "<img src=\"./imgs/4.gif\" width=500>\n",
    "\n"
   ]
  },
  {
   "cell_type": "markdown",
   "metadata": {},
   "source": [
    "## RMSProp (Root Mean Square Propagation)\n",
    "\n",
    "$$\n",
    "\\Large\n",
    "\\begin{align}\n",
    "v &= \\beta v +  (1-\\beta)(\\nabla_{\\theta} L)^2 \\\\\n",
    "\\theta &= \\theta - \\lambda \\frac{1}{\\sqrt{v}} \\nabla_{\\theta} L\n",
    "\\end{align}\n",
    "$$\n",
    "<img src=\"./imgs/5.gif\" width=500>"
   ]
  },
  {
   "cell_type": "markdown",
   "metadata": {},
   "source": [
    "## Adam (Adaptive Moment Estimation) \n",
    "\n",
    "Adam = SGD + Momentum + RMSProp\n",
    "\n",
    "$$\n",
    "\\Large\n",
    "\\begin{align}\n",
    "m &= \\alpha m+ (1 - \\alpha) \\nabla_{\\theta} L \\\\\n",
    "v &= \\beta v +  (1-\\beta)(\\nabla_{\\theta} L)^2 \\\\\n",
    "\\theta &= \\theta - \\lambda \\frac{m}{\\sqrt{v}} \\nabla_{\\theta} L\n",
    "\\end{align}\n",
    "$$\n",
    "<img src=\"./imgs/6.gif\" width=500>"
   ]
  },
  {
   "cell_type": "markdown",
   "metadata": {},
   "source": [
    "# Откуда пошли сверточные сети"
   ]
  },
  {
   "cell_type": "markdown",
   "metadata": {},
   "source": [
    "# 1958 - Hubel and Wiesel\n",
    "\n",
    "<img src=\"./imgs/7.jpg\" width=500>\n",
    "\n",
    "<img src=\"./imgs/9.png\" width=500>\n",
    "\n",
    "- **Simple cells**: точки или линии с определенной ориентацией \n",
    "- **Complex cells**: точки или линии с определенной ориентацией двигающиеся в определенном направлении\n",
    "- **Hypercomplex cells**: точки или линии с определенной ориентацией и определенной длинны двигающиеся в определенном направлении "
   ]
  },
  {
   "cell_type": "markdown",
   "metadata": {},
   "source": [
    "## 1980 - Neocognitron (Fukushima)\n",
    "\n",
    "<img src=\"./imgs/10.jpg\" width=400>\n",
    "<img src=\"./imgs/11.gif\" width=400>\n"
   ]
  },
  {
   "cell_type": "markdown",
   "metadata": {},
   "source": [
    "# 1998 LeNet-5 (LeCun et.al.)\n",
    "\n",
    "<img src=\"./imgs/12.png\" width=700>\n"
   ]
  },
  {
   "cell_type": "markdown",
   "metadata": {},
   "source": [
    "# 2012 AlexNet\n",
    "\n",
    "<img src=\"./imgs/14.png\">\n",
    "**ImageNet**\n",
    "- 1000 классов\n",
    "- 1.2М обучение, 100К тест\n",
    "\n",
    "**AlexNet**:\n",
    "<img src=\"./imgs/13.png\">\n",
    "\n",
    "**AlexNet + ImageNet**:\n",
    "<img src=\"./imgs/15.png\">\n"
   ]
  },
  {
   "cell_type": "markdown",
   "metadata": {},
   "source": [
    "# Взрывной рост GPU\n",
    "<img src=\"./imgs/16.jpg\">\n"
   ]
  },
  {
   "cell_type": "markdown",
   "metadata": {},
   "source": [
    "# Основные блоки нейронных сетей"
   ]
  },
  {
   "cell_type": "markdown",
   "metadata": {},
   "source": [
    "<img src=\"./imgs/17.jpg\">"
   ]
  },
  {
   "cell_type": "markdown",
   "metadata": {},
   "source": [
    "# PyTorch Autograd\n",
    "\n",
    "<img src=\"./imgs/24.png\">\n",
    "\n",
    "- data: $z = f(x)$\n",
    "- creator: $f$\n",
    "- grad: $\\large \\frac{\\partial z}{\\partial x}$"
   ]
  },
  {
   "cell_type": "markdown",
   "metadata": {},
   "source": [
    "## Оптимизация произвольной функции"
   ]
  },
  {
   "cell_type": "code",
   "execution_count": 1,
   "metadata": {},
   "outputs": [
    {
     "name": "stdout",
     "output_type": "stream",
     "text": [
      "0 25132378.0\n",
      "1 127386768.0\n",
      "2 1134078976.0\n",
      "3 367785376.0\n",
      "4 15741735.0\n",
      "5 193614.515625\n",
      "6 86689.359375\n",
      "7 54683.2578125\n",
      "8 37857.5234375\n",
      "9 27646.9375\n"
     ]
    }
   ],
   "source": [
    "import torch\n",
    "from torch.autograd import Variable\n",
    "\n",
    "\n",
    "class MyReLU(torch.autograd.Function):\n",
    "\n",
    "    def forward(self, input):\n",
    "        \"\"\"\n",
    "        In the forward pass we receive a Tensor containing the input and return a\n",
    "        Tensor containing the output. You can cache arbitrary Tensors for use in the\n",
    "        backward pass using the save_for_backward method.\n",
    "        \"\"\"\n",
    "        self.save_for_backward(input)\n",
    "        return input.clamp(min=0)\n",
    "\n",
    "    def backward(self, grad_output):\n",
    "        \"\"\"\n",
    "        In the backward pass we receive a Tensor containing the gradient of the loss\n",
    "        with respect to the output, and we need to compute the gradient of the loss\n",
    "        with respect to the input.\n",
    "        \"\"\"\n",
    "        input, = self.saved_tensors\n",
    "        grad_input = grad_output.clone()\n",
    "        grad_input[input < 0] = 0\n",
    "        return grad_input\n",
    "\n",
    "dtype = torch.FloatTensor\n",
    "# dtype = torch.cuda.FloatTensor # Uncomment this to run on GPU\n",
    "\n",
    "# N is batch size; D_in is input dimension;\n",
    "# H is hidden dimension; D_out is output dimension.\n",
    "N, D_in, H, D_out = 64, 1000, 100, 10\n",
    "\n",
    "# Create random Tensors to hold input and outputs, and wrap them in Variables.\n",
    "x = Variable(torch.randn(N, D_in).type(dtype), requires_grad=False)\n",
    "y = Variable(torch.randn(N, D_out).type(dtype), requires_grad=False)\n",
    "\n",
    "# Create random Tensors for weights, and wrap them in Variables.\n",
    "w1 = Variable(torch.randn(D_in, H).type(dtype), requires_grad=True)\n",
    "w2 = Variable(torch.randn(H, D_out).type(dtype), requires_grad=True)\n",
    "\n",
    "learning_rate = 3e-6\n",
    "for t in range(10):\n",
    "    # Construct an instance of our MyReLU class to use in our network\n",
    "    relu = MyReLU()\n",
    "\n",
    "    # Forward pass: compute predicted y using operations on Variables; we compute\n",
    "    # ReLU using our custom autograd operation.\n",
    "    y_pred = relu(x.mm(w1)).mm(w2)\n",
    "\n",
    "    # Compute and print loss\n",
    "    loss = (y_pred - y).pow(2).sum()\n",
    "    print(t, loss.data[0])\n",
    "\n",
    "    # Use autograd to compute the backward pass.\n",
    "    loss.backward()\n",
    "\n",
    "    # Update weights using gradient descent\n",
    "    w1.data -= learning_rate * w1.grad.data\n",
    "    w2.data -= learning_rate * w2.grad.data\n",
    "\n",
    "    # Manually zero the gradients after updating weights\n",
    "    w1.grad.data.zero_()\n",
    "    w2.grad.data.zero_()"
   ]
  },
  {
   "cell_type": "markdown",
   "metadata": {},
   "source": [
    "# PyTorch NN"
   ]
  },
  {
   "cell_type": "code",
   "execution_count": 2,
   "metadata": {},
   "outputs": [
    {
     "name": "stdout",
     "output_type": "stream",
     "text": [
      "0 637.6656494140625\n",
      "1 591.4013061523438\n",
      "2 550.8856811523438\n",
      "3 515.2730102539062\n",
      "4 483.4104309082031\n",
      "5 454.7101135253906\n",
      "6 428.66156005859375\n",
      "7 404.52423095703125\n",
      "8 382.1144104003906\n",
      "9 361.37799072265625\n"
     ]
    }
   ],
   "source": [
    "import torch\n",
    "from torch.autograd import Variable\n",
    "\n",
    "# N is batch size; D_in is input dimension;\n",
    "# H is hidden dimension; D_out is output dimension.\n",
    "N, D_in, H, D_out = 64, 1000, 100, 10\n",
    "\n",
    "# Create random Tensors to hold inputs and outputs, and wrap them in Variables.\n",
    "x = Variable(torch.randn(N, D_in))\n",
    "y = Variable(torch.randn(N, D_out), requires_grad=False)\n",
    "\n",
    "# Use the nn package to define our model as a sequence of layers. nn.Sequential\n",
    "# is a Module which contains other Modules, and applies them in sequence to\n",
    "# produce its output. Each Linear Module computes output from input using a\n",
    "# linear function, and holds internal Variables for its weight and bias.\n",
    "model = torch.nn.Sequential(\n",
    "    torch.nn.Linear(D_in, H),\n",
    "    torch.nn.ReLU(),\n",
    "    torch.nn.Linear(H, D_out),\n",
    ")\n",
    "\n",
    "# The nn package also contains definitions of popular loss functions; in this\n",
    "# case we will use Mean Squared Error (MSE) as our loss function.\n",
    "loss_fn = torch.nn.MSELoss(size_average=False)\n",
    "\n",
    "learning_rate = 1e-4\n",
    "for t in range(10):\n",
    "    # Forward pass: compute predicted y by passing x to the model. Module objects\n",
    "    # override the __call__ operator so you can call them like functions. When\n",
    "    # doing so you pass a Variable of input data to the Module and it produces\n",
    "    # a Variable of output data.\n",
    "    y_pred = model(x)\n",
    "\n",
    "    # Compute and print loss. We pass Variables containing the predicted and true\n",
    "    # values of y, and the loss function returns a Variable containing the\n",
    "    # loss.\n",
    "    loss = loss_fn(y_pred, y)\n",
    "    print(t, loss.data[0])\n",
    "\n",
    "    # Zero the gradients before running the backward pass.\n",
    "    model.zero_grad()\n",
    "\n",
    "    # Backward pass: compute gradient of the loss with respect to all the learnable\n",
    "    # parameters of the model. Internally, the parameters of each Module are stored\n",
    "    # in Variables with requires_grad=True, so this call will compute gradients for\n",
    "    # all learnable parameters in the model.\n",
    "    loss.backward()\n",
    "\n",
    "    # Update the weights using gradient descent. Each parameter is a Variable, so\n",
    "    # we can access its data and gradients like we did before.\n",
    "    for param in model.parameters():\n",
    "        param.data -= learning_rate * param.grad.data"
   ]
  },
  {
   "cell_type": "markdown",
   "metadata": {},
   "source": [
    "## Optimizer"
   ]
  },
  {
   "cell_type": "code",
   "execution_count": 3,
   "metadata": {},
   "outputs": [
    {
     "name": "stdout",
     "output_type": "stream",
     "text": [
      "0 658.3956909179688\n",
      "1 641.4901733398438\n",
      "2 625.0318603515625\n",
      "3 609.098876953125\n",
      "4 593.6015625\n",
      "5 578.552978515625\n",
      "6 563.9472045898438\n",
      "7 549.819091796875\n",
      "8 536.1297607421875\n",
      "9 522.7894287109375\n"
     ]
    }
   ],
   "source": [
    "# -*- coding: utf-8 -*-\n",
    "import torch\n",
    "from torch.autograd import Variable\n",
    "\n",
    "# N is batch size; D_in is input dimension;\n",
    "# H is hidden dimension; D_out is output dimension.\n",
    "N, D_in, H, D_out = 64, 1000, 100, 10\n",
    "\n",
    "# Create random Tensors to hold inputs and outputs, and wrap them in Variables.\n",
    "x = Variable(torch.randn(N, D_in))\n",
    "y = Variable(torch.randn(N, D_out), requires_grad=False)\n",
    "\n",
    "# Use the nn package to define our model and loss function.\n",
    "model = torch.nn.Sequential(\n",
    "    torch.nn.Linear(D_in, H),\n",
    "    torch.nn.ReLU(),\n",
    "    torch.nn.Linear(H, D_out),\n",
    ")\n",
    "loss_fn = torch.nn.MSELoss(size_average=False)\n",
    "\n",
    "# Use the optim package to define an Optimizer that will update the weights of\n",
    "# the model for us. Here we will use Adam; the optim package contains many other\n",
    "# optimization algoriths. The first argument to the Adam constructor tells the\n",
    "# optimizer which Variables it should update.\n",
    "learning_rate = 1e-4\n",
    "optimizer = torch.optim.Adam(model.parameters(), lr=learning_rate)\n",
    "for t in range(10):\n",
    "    # Forward pass: compute predicted y by passing x to the model.\n",
    "    y_pred = model(x)\n",
    "\n",
    "    # Compute and print loss.\n",
    "    loss = loss_fn(y_pred, y)\n",
    "    print(t, loss.data[0])\n",
    "\n",
    "    # Before the backward pass, use the optimizer object to zero all of the\n",
    "    # gradients for the variables it will update (which are the learnable weights\n",
    "    # of the model)\n",
    "    optimizer.zero_grad()\n",
    "\n",
    "    # Backward pass: compute gradient of the loss with respect to model\n",
    "    # parameters\n",
    "    loss.backward()\n",
    "\n",
    "    # Calling the step function on an Optimizer makes an update to its\n",
    "    # parameters\n",
    "    optimizer.step()"
   ]
  },
  {
   "cell_type": "markdown",
   "metadata": {},
   "source": [
    "# Сверточный слой"
   ]
  },
  {
   "cell_type": "markdown",
   "metadata": {},
   "source": [
    "<img src=\"./imgs/18.jpg\">\n",
    "\n",
    "<img src=\"./imgs/19.png\">\n",
    "Типичные размеры фильтров: 1х1, 3х3, 5х5,\n"
   ]
  },
  {
   "cell_type": "markdown",
   "metadata": {},
   "source": [
    "Картинка = тензор размера (ширина, высота, число каналов)\n",
    "<img src=\"./imgs/20.png\" width=300>\n",
    "\n",
    "1 слой состоит из нескольких филтров (filter bank)\n",
    "<img src=\"./imgs/21.png\" width=400>\n",
    "\n"
   ]
  },
  {
   "cell_type": "markdown",
   "metadata": {},
   "source": [
    "Stride\n",
    "<img src=\"./imgs/22.gif\" width=300>\n",
    "\n",
    "Padding\n",
    "<img src=\"./imgs/23.gif\" width=400>\n"
   ]
  },
  {
   "cell_type": "markdown",
   "metadata": {},
   "source": [
    "## Свертка в PyTorch\n",
    "\n",
    "```python\n",
    "class torch.nn.Conv2d(\n",
    "    in_channels,  # Число каналов на входе\n",
    "    out_channels, # Число каналов на выходе\n",
    "    kernel_size,  # Размер ядра свертки\n",
    "    stride=1,     # Шаг свертки\n",
    "    padding=0,    # Сколько прибавлять по краям\n",
    "    dilation=1, groups=1, bias=True) # Параметры не интересные в нашем курсе\n",
    "```\n",
    "\n",
    "- Вход: $(N, C_{in}, H_{in}, W_{in})$\n",
    "- Выход: $(N, C_{out}, H_{out}, W_{out})$\n",
    "- Есть варинаты 1d (для звука, например) и 3d (для объемных томограмм например)\n"
   ]
  },
  {
   "cell_type": "markdown",
   "metadata": {},
   "source": [
    "# Transposed convolution\n",
    "\n",
    "<img src=\"./imgs/25.gif\" width=400>\n",
    "<img src=\"./imgs/28.png\">\n",
    "\n",
    "\n",
    "```python\n",
    "class torch.nn.ConvTranspose2d\n",
    "```"
   ]
  },
  {
   "cell_type": "markdown",
   "metadata": {},
   "source": [
    "# Pooling\n",
    "\n",
    "<img src=\"./imgs/26.jpg\" width=400>\n",
    "<img src=\"./imgs/27.jpg\" width=400>\n"
   ]
  },
  {
   "cell_type": "markdown",
   "metadata": {},
   "source": [
    "# Активация\n",
    "```python\n",
    "class torch.nn.Sigmoid\n",
    "```\n",
    "Чем плох сигмойд?\n",
    "<img src=\"./imgs/29.png\" >\n",
    "<img src=\"./imgs/30.png\" >\n",
    "\n",
    "```python\n",
    "class torch.nn.ReLU(inplace=False)\n",
    "```\n",
    "<img src=\"./imgs/31.png\" >\n",
    "\n",
    "\n",
    "```python\n",
    "class torch.nn.Softmax\n",
    "class torch.nn.Softmax2d\n",
    "```\n",
    "$$\\large {Softmax}_j(x) = \\frac{exp(x_j)}{\\sum_i exp(x_i)}$$"
   ]
  },
  {
   "cell_type": "markdown",
   "metadata": {},
   "source": [
    "# Dropout\n",
    "<img src=\"./imgs/33.png\" >\n",
    "<img src=\"./imgs/34.png\" >\n",
    "<img src=\"./imgs/35.png\" >\n",
    "\n",
    "```python\n",
    "class torch.nn.Dropout(\n",
    "class torch.nn.Dropout2d(\n",
    "    p=0.5,         # % фичей, которые нужно занулить\n",
    "    inplace=False  # делать ли оптимизацию\n",
    "```\n",
    "   "
   ]
  },
  {
   "cell_type": "markdown",
   "metadata": {},
   "source": [
    "# Batch Normalization\n",
    "\n",
    "<img src=\"./imgs/36.png\" >\n",
    "\n",
    "Можно показать, что это происходит не только с входными данными, но и с выходами слоёв, даже если входные данные нормализованы (см [Andrej Karpathy cs231n](https://youtu.be/gYpoJMlgyXA?list=PLkt2uSq6rBVctENoVBg1TpCC7OQi31AlC&t=2221)).\n",
    "\n",
    "Решение проблемы - нормализация данных внутри сети - Batch Normalization [Ioffe, Szegedy 2015](https://arxiv.org/pdf/1502.03167.pdf)\n",
    "\n",
    "<img src=\"./imgs/37.png\" width=400>\n",
    "\n",
    "$$\n",
    "y = \\frac{x - mean[x]}{ \\sqrt{Var[x] + \\epsilon}} * gamma + beta\n",
    "$$\n",
    "\n",
    "<img src=\"./imgs/38.png\" width=400>\n",
    "\n",
    "\n",
    "```python\n",
    "class torch.nn.BatchNorm2d(\n",
    "    num_features,   # Число фильтров, которое следует ожидать на входе\n",
    "    eps=1e-05,      # Epsilon из знаменателя\n",
    "    momentum=0.1,   # Момент, с которым идет накопление среднего и дисперсии\n",
    "    affine=True)    # учить gamma и beta\n",
    "```\n",
    "\n"
   ]
  },
  {
   "cell_type": "markdown",
   "metadata": {},
   "source": [
    "# Loss функции\n",
    "\n",
    "```python\n",
    "class torch.nn.MSELoss\n",
    "class torch.nn.CrossEntropyLoss # Комбинация Cross Entropy и Softmax в одном слое\n",
    "class torch.nn.NLLLoss # Оптимизация правдоподобия, на вход ожидает логарифмы вероятностей (выход LogSoftmax)\n",
    "```\n"
   ]
  },
  {
   "cell_type": "markdown",
   "metadata": {},
   "source": [
    "# Решаем MNIST\n",
    "Решаем MNIST"
   ]
  },
  {
   "cell_type": "code",
   "execution_count": 7,
   "metadata": {},
   "outputs": [],
   "source": [
    "import numpy as np\n",
    "import matplotlib.pylab as plt\n",
    "%matplotlib inline"
   ]
  },
  {
   "cell_type": "code",
   "execution_count": 8,
   "metadata": {},
   "outputs": [
    {
     "name": "stdout",
     "output_type": "stream",
     "text": [
      "(70000, 1, 28, 28)\n"
     ]
    }
   ],
   "source": [
    "# Загружаем MNIST\n",
    "from sklearn.datasets import fetch_mldata\n",
    "mnist = fetch_mldata('MNIST original', data_home='./')\n",
    "X = mnist['data']\n",
    "# переходим к формату тензоров pytorch\n",
    "X = X.reshape((-1, 1, 28, 28))\n",
    "X = X.astype('float')\n",
    "print(X.shape)"
   ]
  },
  {
   "cell_type": "code",
   "execution_count": 9,
   "metadata": {},
   "outputs": [
    {
     "data": {
      "image/png": "[encoded data removed]",
      "text/plain": [
       "<matplotlib.figure.Figure at 0x7f08075b3978>"
      ]
     },
     "metadata": {},
     "output_type": "display_data"
    }
   ],
   "source": [
    "n=4\n",
    "for i in range(n*n):\n",
    "    plt.subplot(n,n,i+1)\n",
    "    I = X[np.random.randint(0, X.shape[0]),0]\n",
    "    plt.imshow(I, cmap='gray')"
   ]
  },
  {
   "cell_type": "code",
   "execution_count": 10,
   "metadata": {},
   "outputs": [
    {
     "name": "stdout",
     "output_type": "stream",
     "text": [
      "original [0 0 0 ..., 9 9 9]\n"
     ]
    }
   ],
   "source": [
    "from sklearn.preprocessing import OneHotEncoder\n",
    "\n",
    "Y = mnist['target'].astype('int')\n",
    "print('original', Y)\n"
   ]
  },
  {
   "cell_type": "markdown",
   "metadata": {},
   "source": [
    "# TODO"
   ]
  },
  {
   "cell_type": "code",
   "execution_count": 17,
   "metadata": {},
   "outputs": [
    {
     "name": "stdout",
     "output_type": "stream",
     "text": [
      "Net (\n",
      "  (bn1): BatchNorm2d(1, eps=1e-05, momentum=0.1, affine=True)\n",
      "  (conv1to8): Conv2d(1, 8, kernel_size=(5, 5), stride=(1, 1))\n",
      "  (bn8): BatchNorm2d(8, eps=1e-05, momentum=0.1, affine=True)\n",
      "  (conv8to16): Conv2d(8, 16, kernel_size=(5, 5), stride=(1, 1))\n",
      "  (bn16): BatchNorm2d(16, eps=1e-05, momentum=0.1, affine=True)\n",
      "  (lin): Linear (256 -> 10)\n",
      ")\n"
     ]
    }
   ],
   "source": [
    "import torch\n",
    "import torch.nn as nn\n",
    "from torch.autograd import Variable\n",
    "import torch.nn.functional as F\n",
    "from torch.autograd import Variable\n",
    "\n",
    "class Net(nn.Module):\n",
    "\n",
    "    # Слои, в которых нет параметров для обучения можно не создавать, а брать из переменной F\n",
    "    def __init__(self):\n",
    "        super(Net, self).__init__()\n",
    "        \n",
    "        self.bn1 = nn.BatchNorm2d(1)\n",
    "        self.conv1to8 = nn.Conv2d(1,8,5)\n",
    "        self.bn8 = nn.BatchNorm2d(8)\n",
    "        self.conv8to16 = nn.Conv2d(8,16,5)\n",
    "        self.bn16 = nn.BatchNorm2d(16)\n",
    "        self.lin = nn.Linear(16 * 4 * 4, 10)\n",
    "        \n",
    "        # batchnorm\n",
    "        # conv in 28x28x1, out 24x24x8\n",
    "        # bn\n",
    "        # relu\n",
    "        # max pooling  # in 24x24, out 12x12\n",
    "        # conv in 12x12x8, out 8x8x16\n",
    "        # bn\n",
    "        # relu\n",
    "        # max pooling # in 8x8 out 4x4\n",
    "        # flatten\n",
    "        # linear\n",
    "        # relu\n",
    "        # log softmax\n",
    "\n",
    "    def forward(self, x):\n",
    "        # TODO\n",
    "        x = self.bn1(x)\n",
    "        x = self.conv1to8(x)\n",
    "        x = self.bn8(x)\n",
    "        x = F.relu(x)\n",
    "        x = F.max_pool2d(x,2)\n",
    "        x = self.conv8to16(x)\n",
    "        x = self.bn16(x)\n",
    "        x = F.relu(x)\n",
    "        x = F.max_pool2d(x,2)\n",
    "        x = x.view(-1, 16 * 4 * 4)\n",
    "        x = self.lin(x)\n",
    "        x = F.relu(x)\n",
    "        x = F.log_softmax(x)\n",
    "        return x\n",
    "   \n",
    "net = Net()\n",
    "print(net)"
   ]
  },
  {
   "cell_type": "code",
   "execution_count": 18,
   "metadata": {},
   "outputs": [
    {
     "name": "stdout",
     "output_type": "stream",
     "text": [
      "Done epoch 0 with loss 4904.127428546548\n",
      "Done epoch 1 with loss 2525.1326540000737\n",
      "Done epoch 2 with loss 2319.7133216099464\n",
      "1min 46s ± 0 ns per loop (mean ± std. dev. of 1 run, 1 loop each)\n"
     ]
    },
    {
     "data": {
      "image/png": "[encoded data removed]",
      "text/plain": [
       "<matplotlib.figure.Figure at 0x7f07e6d8d828>"
      ]
     },
     "metadata": {},
     "output_type": "display_data"
    }
   ],
   "source": [
    "%%timeit -n 1 -r 1\n",
    "\n",
    "loss_fn = torch.nn.NLLLoss()\n",
    "\n",
    "learning_rate = 1e-4\n",
    "batch_size = 10\n",
    "optimizer = torch.optim.Adam(net.parameters(), lr=learning_rate)\n",
    "loss_curve = []\n",
    "\n",
    "for iter in range(3):\n",
    "    Xperm = np.random.permutation(X.shape[0])\n",
    "    loss_acc = 0\n",
    "    for b in range(X.shape[0]//batch_size):\n",
    "        batch_idxs = Xperm[b*batch_size:(b+1)*batch_size]\n",
    "        x = Variable(torch.Tensor(X[batch_idxs]))\n",
    "        y = Variable(torch.LongTensor(Y[batch_idxs]))\n",
    "        \n",
    "        # TODO Optimization\n",
    "        y_hat = net.forward(x)\n",
    "        loss = loss_fn(y_hat, y)\n",
    "        loss_acc += loss.data[0]\n",
    "        optimizer.zero_grad()\n",
    "        loss.backward()\n",
    "        optimizer.step()\n",
    "        \n",
    "    print('Done epoch %s with loss %s' % (iter, loss_acc))\n",
    "    loss_curve.append(loss_acc)\n",
    "    \n",
    "plt.plot(loss_curve)"
   ]
  },
  {
   "cell_type": "markdown",
   "metadata": {
    "collapsed": true
   },
   "source": [
    "# Версия для GPU "
   ]
  },
  {
   "cell_type": "code",
   "execution_count": 19,
   "metadata": {},
   "outputs": [
    {
     "name": "stdout",
     "output_type": "stream",
     "text": [
      "Done epoch 0 with loss 1042.3258162140846\n",
      "Done epoch 1 with loss 570.6741463840008\n",
      "Done epoch 2 with loss 465.1503316760063\n",
      "32 s ± 0 ns per loop (mean ± std. dev. of 1 run, 1 loop each)\n"
     ]
    },
    {
     "data": {
      "image/png": "[encoded data removed]",
      "text/plain": [
       "<matplotlib.figure.Figure at 0x7f07e9096400>"
      ]
     },
     "metadata": {},
     "output_type": "display_data"
    }
   ],
   "source": [
    "%%timeit -n 1 -r 1\n",
    "\n",
    "net = Net().cuda()\n",
    "\n",
    "loss_fn = torch.nn.NLLLoss().cuda()\n",
    "\n",
    "learning_rate = 1e-4\n",
    "batch_size = 100\n",
    "loss_curve = []\n",
    "\n",
    "optimizer = torch.optim.Adam(net.parameters(), lr=learning_rate)\n",
    "\n",
    "for iter in range(3):\n",
    "    Xperm = np.random.permutation(X.shape[0])\n",
    "    loss_acc = 0\n",
    "    for b in range(X.shape[0]//batch_size):\n",
    "        batch_idxs = Xperm[b*batch_size:(b+1)*batch_size]\n",
    "        x = Variable(torch.Tensor(X[batch_idxs])).cuda()\n",
    "        y = Variable(torch.LongTensor(Y[batch_idxs])).cuda()\n",
    "        y_pred = net(x)\n",
    "              \n",
    "        loss = loss_fn(y_pred, y)\n",
    "        loss_acc += loss.data[0]\n",
    "        optimizer.zero_grad()\n",
    "        loss.backward()\n",
    "        optimizer.step()\n",
    "    print('Done epoch %s with loss %s' % (iter, loss_acc))\n",
    "    loss_curve.append(loss_acc)\n",
    "    \n",
    "plt.plot(loss_curve)"
   ]
  },
  {
   "cell_type": "markdown",
   "metadata": {},
   "source": [
    "# Augmentation\n",
    "\n",
    "<img src=\"./imgs/32.png\" >\n",
    "<img src=\"./imgs/41.png\" >\n"
   ]
  },
  {
   "cell_type": "markdown",
   "metadata": {},
   "source": [
    "# Home Work 1"
   ]
  },
  {
   "cell_type": "markdown",
   "metadata": {},
   "source": [
    "## CIFAR-10\n",
    "<img src=\"./imgs/40.png\" width=600 >\n",
    "\n",
    "https://www.cs.toronto.edu/~kriz/cifar.html\n",
    "- 32х32 цветные картинки\n",
    "- 10 не пересекающихся классов\n",
    "- 50к train + 10k test (сбалансированно по классам)\n"
   ]
  },
  {
   "cell_type": "markdown",
   "metadata": {},
   "source": [
    "## Kaggle\n",
    "\n",
    "https://www.kaggle.com/c/2017h2-mifi-bnn-hw1/host\n"
   ]
  },
  {
   "cell_type": "markdown",
   "metadata": {},
   "source": [
    "# Почитать\n",
    "\n",
    "- cs231n\n",
    "  - https://www.youtube.com/watch?v=vT1JzLTH4G4&list=PLC1qU-LWwrF64f4QKQT-Vg5Wr4qEE1Zxk\n",
    "  - Лекция 5, 6, 7\n",
    "- http://pytorch.org/tutorials/index.html\n",
    "- https://m2dsupsdlclass.github.io/lectures-labs/slides/03_conv_nets/index.html"
   ]
  },
  {
   "cell_type": "markdown",
   "metadata": {},
   "source": [
    "<img src=\"./imgs/50.jpg\" width=600 >\n"
   ]
  }
 ],
 "metadata": {
  "kernelspec": {
   "display_name": "Python 3",
   "language": "python",
   "name": "python3"
  },
  "language_info": {
   "codemirror_mode": {
    "name": "ipython",
    "version": 3
   },
   "file_extension": ".py",
   "mimetype": "text/x-python",
   "name": "python",
   "nbconvert_exporter": "python",
   "pygments_lexer": "ipython3",
   "version": "3.5.2"
  }
 },
 "nbformat": 4,
 "nbformat_minor": 2
}
