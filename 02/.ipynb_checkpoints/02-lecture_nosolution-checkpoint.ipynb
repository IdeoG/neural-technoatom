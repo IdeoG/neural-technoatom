{
 "cells": [
  {
   "cell_type": "markdown",
   "metadata": {},
   "source": [
    "# Персептрон и алгоритм обратного распространения ошибки.  "
   ]
  },
  {
   "cell_type": "markdown",
   "metadata": {},
   "source": [
    "Illustration of the Mark 1 perceptron hardware (1960).\n",
    "\n",
    "<img src=\"./imgs/0.png\">\n",
    "The photograph on the left shows how the inputs were obtained using a simple camera system in which an input scene, in this case a printed character, was illuminated by powerful lights, and an image focussed onto a 20 × 20 array of cadmium sulphide photocells, giving a primitive 400 pixel image. \n",
    "<img src=\"./imgs/1.png\">\n",
    "The perceptron also had a patch board, shown in the middle photograph,\n",
    "which allowed different configurations of input features to be tried. Often these were wired up at random to demonstrate the ability of the perceptron to learn without the need for precise wiring, in contrast to a modern digital computer. \n",
    "\n",
    "<img src=\"./imgs/2.png\">\n",
    "The photograph on the right shows one of the racks of adaptive weights. Each weight was\n",
    "implemented using a rotary variable resistor, also called a potentiometer, driven by an electric motor thereby\n",
    "allowing the value of the weight to be adjusted automatically by the learning algorithm.\n",
    "\n",
    "<img src=\"./imgs/2.jpg\">\n",
    "The Mark 1 Perceptron (Source: Arvin Calspan Advanced Technology Center; Hecht-Nielsen, R. Neurocomputing (Reading, Mass.: Addison-Wesley, 1990).)\n",
    "\n"
   ]
  },
  {
   "cell_type": "markdown",
   "metadata": {
    "collapsed": true
   },
   "source": [
    "# Однослойный перцептрон"
   ]
  },
  {
   "cell_type": "markdown",
   "metadata": {
    "collapsed": true
   },
   "source": [
    "<img src=\"./imgs/3.png\" width=400>"
   ]
  },
  {
   "cell_type": "markdown",
   "metadata": {},
   "source": [
    "$$\n",
    "\\large\n",
    "\\large OUT(x) = softmax(D_2(\\vec{x})) \\\\\n",
    "\\large D_2(\\vec{x}) = \\theta_2 + W_2 A_1(\\vec{x}) \\\\\n",
    "\\large A_1(x) = max(0, D_1(\\vec{x})) \\\\\n",
    "\\large D_1(\\vec{x}) = \\theta_1 + W_1 \\vec{x}\n",
    "$$\n",
    "**От D1 до OUT**\n",
    "\n",
    "Каждая сеть представима в виде акцикличного графа вычислений над тензорами. **Тензор** - в случае нейронных сетей это просто многомерный массив. В узлах графа находятся функции, осуществляющие операции. В техминах нейронных сетей вычислительные узлы называют **слоями**. В данной сети есть слои следующих видов:\n",
    "- dense (D) - полносвязный слой\n",
    "- max(0,x) - слой нелинейной активации\n",
    "- softmax - softmax \n",
    "- loss - функционал потерь, котороый тоже стоит рассматривать как слой.\n",
    "\n",
    "Обычно граф вычислений рисуется следующим образом"
   ]
  },
  {
   "cell_type": "markdown",
   "metadata": {},
   "source": [
    "<img src=\"./imgs/4.png\" width=700>\n",
    "**Тета - вход, W - параметры(веса)**\n",
    "\n",
    "- Найти производную L \n",
    "- затем по градиентному спуску находим параметры W1, W2\n",
    "- w1(t+1) = w1(t) - n*L"
   ]
  },
  {
   "cell_type": "markdown",
   "metadata": {},
   "source": [
    "Так как мы говорим про задачу многоклассовой классификации, то на выходе сети мы ожидаем набор вероятностей $p_i$, такие что $\\sum p_j = 1$. Для реализации этого используется softmax слой, физический смысл которого эквивалентен сигмойду в задаче бинарной классификации\n",
    "$$\n",
    "\\large softmax_i = p_i = \\frac{e^{a_i}}{\\sum_j e^{a_j}} \\\\\n",
    "$$"
   ]
  },
  {
   "cell_type": "markdown",
   "metadata": {},
   "source": [
    "# Loss функция\n",
    "- нужно уменьшить неучтенные данные (физический смысл)\n",
    "- задача классификации"
   ]
  },
  {
   "cell_type": "markdown",
   "metadata": {},
   "source": [
    "Для того, чтобы получить loss функцию для нейронной сети, рассмотрим понятие перекрестной энтропии:\n",
    "$$\n",
    "\\large H(p, q) = \\operatorname{E}_p[-\\log q] = H(p) + D_{\\mathrm{KL}}(p \\| q)=-\\sum_x p(x)\\log q(x)\n",
    "$$\n",
    "где $D_{\\mathrm{KL}}(p||q)$ - расстояние Ку́льбака—Ле́йблера\n",
    "$$\n",
    "\\large D_{\\mathrm{KL}}(p||q)=\\sum \\limits _{i=1}^{n}p_{i}\\log {\\frac {p_{i}}{q_{i}}}\n",
    "$$\n",
    "Значение этого функционала можно понимать как количество неучтённой информации распределения $P$, если $Q$ было использовано для приближения $P$.\n",
    "\n",
    "Можно показать, что оптимизация кросс-энтропии в задаче многоклассовой оптимизации эквивалентно оптимизации правдоподобия.  Таким образом, loss для нашей сети будет:\n",
    "$$\n",
    "\\large L = -\\sum_i y_i \\log \\hat{y}_i\n",
    "$$"
   ]
  },
  {
   "cell_type": "markdown",
   "metadata": {},
   "source": [
    "# Концепция автоматического дифференцирования"
   ]
  },
  {
   "cell_type": "markdown",
   "metadata": {},
   "source": [
    "Давайте переместимся в слайды )\n",
    "<img src=\"./imgs/5.png\" width=700>"
   ]
  },
  {
   "cell_type": "markdown",
   "metadata": {},
   "source": [
    "# Обучаем персептрон"
   ]
  },
  {
   "cell_type": "markdown",
   "metadata": {},
   "source": [
    "Задача: нужно реализовать двухслойный персептрон и обучить его на наборе MNIST"
   ]
  },
  {
   "cell_type": "code",
   "execution_count": 4,
   "metadata": {
    "collapsed": true
   },
   "outputs": [],
   "source": [
    "import numpy as np\n",
    "import matplotlib.pyplot as plt\n",
    "%matplotlib inline"
   ]
  },
  {
   "cell_type": "markdown",
   "metadata": {},
   "source": [
    "### TODO: Полносвязный слой"
   ]
  },
  {
   "cell_type": "code",
   "execution_count": 5,
   "metadata": {
    "collapsed": true
   },
   "outputs": [],
   "source": [
    "class Dense:\n",
    "    def __init__(self, in_size, out_size):\n",
    "        np.random.seed(1)\n",
    "        self.W = np.random.normal(scale=0.1, size=(out_size, in_size))\n",
    "        self.b = np.random.normal(scale=0.1, size=(out_size))\n",
    "        \n",
    "    def forward(self, x):\n",
    "        #TODO\n",
    "        return self.b + np.dot(self.w*x)\n",
    "    \n",
    "    def backward(self, dz, lr=0.001):\n",
    "        #TODO\n",
    "        # вычисляем градиенты по параметрам (запоминаем их для отладки)\n",
    "        self.dW = 0\n",
    "        self.db = 1\n",
    "        # вычисляем производную по входу\n",
    "        self.dx = 0 \n",
    "        # обновляем веса\n",
    "        self.W = self.W - ls * self.dW\n",
    "        self.db = 1\n",
    "        # возвращаем dx для продолжения алгоритма\n",
    "        return self.dx"
   ]
  },
  {
   "cell_type": "markdown",
   "metadata": {},
   "source": [
    "Проверяем используя пример из слайдов"
   ]
  },
  {
   "cell_type": "code",
   "execution_count": 6,
   "metadata": {},
   "outputs": [
    {
     "ename": "TypeError",
     "evalue": "unsupported operand type(s) for -: 'NoneType' and 'float'",
     "output_type": "error",
     "traceback": [
      "\u001b[0;31m---------------------------------------------------------------------------\u001b[0m",
      "\u001b[0;31mTypeError\u001b[0m                                 Traceback (most recent call last)",
      "\u001b[0;32m<ipython-input-6-75208791694e>\u001b[0m in \u001b[0;36m<module>\u001b[0;34m()\u001b[0m\n\u001b[1;32m      7\u001b[0m \u001b[0mz\u001b[0m \u001b[0;34m=\u001b[0m \u001b[0md\u001b[0m\u001b[0;34m.\u001b[0m\u001b[0mforward\u001b[0m\u001b[0;34m(\u001b[0m\u001b[0mx\u001b[0m\u001b[0;34m)\u001b[0m\u001b[0;34m\u001b[0m\u001b[0m\n\u001b[1;32m      8\u001b[0m \u001b[0mz_orig\u001b[0m \u001b[0;34m=\u001b[0m \u001b[0mnp\u001b[0m\u001b[0;34m.\u001b[0m\u001b[0marray\u001b[0m\u001b[0;34m(\u001b[0m\u001b[0;34m[\u001b[0m\u001b[0;36m1.22\u001b[0m\u001b[0;34m,\u001b[0m \u001b[0;36m0.76\u001b[0m\u001b[0;34m]\u001b[0m\u001b[0;34m)\u001b[0m\u001b[0;34m\u001b[0m\u001b[0m\n\u001b[0;32m----> 9\u001b[0;31m \u001b[0mprint\u001b[0m\u001b[0;34m(\u001b[0m\u001b[0;34m'z = '\u001b[0m\u001b[0;34m,\u001b[0m\u001b[0mz\u001b[0m\u001b[0;34m,\u001b[0m \u001b[0;34m'must be'\u001b[0m\u001b[0;34m,\u001b[0m \u001b[0mz_orig\u001b[0m\u001b[0;34m,\u001b[0m \u001b[0;34m'diff = '\u001b[0m\u001b[0;34m,\u001b[0m \u001b[0mz\u001b[0m\u001b[0;34m-\u001b[0m\u001b[0mz_orig\u001b[0m\u001b[0;34m)\u001b[0m\u001b[0;34m\u001b[0m\u001b[0m\n\u001b[0m\u001b[1;32m     10\u001b[0m \u001b[0;34m\u001b[0m\u001b[0m\n\u001b[1;32m     11\u001b[0m \u001b[0mdx\u001b[0m \u001b[0;34m=\u001b[0m \u001b[0md\u001b[0m\u001b[0;34m.\u001b[0m\u001b[0mbackward\u001b[0m\u001b[0;34m(\u001b[0m\u001b[0mdz\u001b[0m\u001b[0;34m)\u001b[0m\u001b[0;34m\u001b[0m\u001b[0m\n",
      "\u001b[0;31mTypeError\u001b[0m: unsupported operand type(s) for -: 'NoneType' and 'float'"
     ]
    }
   ],
   "source": [
    "d = Dense(2, 2)\n",
    "x = np.array([0.2, 0.4])\n",
    "d.W = np.array([[0.1, 0.5], [-0.3, 0.8]])\n",
    "d.b = np.array([1, 0.5])\n",
    "dz = np.array([0.44, 0.52])\n",
    "\n",
    "z = d.forward(x)\n",
    "z_orig = np.array([1.22, 0.76])\n",
    "print('z = ',z, 'must be', z_orig, 'diff = ', z-z_orig)\n",
    "\n",
    "dx = d.backward(dz)\n",
    "dx_orig = np.array([-0.112, 0.636])\n",
    "print('dx = ', dx, 'must be', dx_orig, 'diff = ', dx-dx_orig)\n",
    "\n",
    "print('W\\n', d.W)\n",
    "print('dW:\\n', d.dW)\n",
    "print('db:\\n', d.db)\n",
    "print('dx:\\n', d.dx)"
   ]
  },
  {
   "cell_type": "markdown",
   "metadata": {},
   "source": [
    "В слайдах у нас вход и выход слоя имеют одинаковую размерность. Давайте проверим, что для разных размеров все считается правильно."
   ]
  },
  {
   "cell_type": "code",
   "execution_count": 6,
   "metadata": {},
   "outputs": [
    {
     "ename": "AttributeError",
     "evalue": "'NoneType' object has no attribute 'shape'",
     "output_type": "error",
     "traceback": [
      "\u001b[0;31m---------------------------------------------------------------------------\u001b[0m",
      "\u001b[0;31mAttributeError\u001b[0m                            Traceback (most recent call last)",
      "\u001b[0;32m<ipython-input-6-eb5ea97816ea>\u001b[0m in \u001b[0;36m<module>\u001b[0;34m()\u001b[0m\n\u001b[1;32m      3\u001b[0m \u001b[0mx\u001b[0m \u001b[0;34m=\u001b[0m \u001b[0mnp\u001b[0m\u001b[0;34m.\u001b[0m\u001b[0marray\u001b[0m\u001b[0;34m(\u001b[0m\u001b[0;34m[\u001b[0m\u001b[0;36m0.1\u001b[0m\u001b[0;34m,\u001b[0m \u001b[0;36m0.2\u001b[0m\u001b[0;34m,\u001b[0m \u001b[0;36m0.3\u001b[0m\u001b[0;34m]\u001b[0m\u001b[0;34m)\u001b[0m\u001b[0;34m\u001b[0m\u001b[0m\n\u001b[1;32m      4\u001b[0m \u001b[0mr\u001b[0m \u001b[0;34m=\u001b[0m \u001b[0md\u001b[0m\u001b[0;34m.\u001b[0m\u001b[0mforward\u001b[0m\u001b[0;34m(\u001b[0m\u001b[0mx\u001b[0m\u001b[0;34m)\u001b[0m\u001b[0;34m\u001b[0m\u001b[0m\n\u001b[0;32m----> 5\u001b[0;31m \u001b[0mprint\u001b[0m\u001b[0;34m(\u001b[0m\u001b[0mr\u001b[0m\u001b[0;34m.\u001b[0m\u001b[0mshape\u001b[0m\u001b[0;34m,\u001b[0m \u001b[0;34m'must be'\u001b[0m\u001b[0;34m,\u001b[0m \u001b[0;34m(\u001b[0m\u001b[0;36m2\u001b[0m\u001b[0;34m,\u001b[0m\u001b[0;34m)\u001b[0m\u001b[0;34m)\u001b[0m\u001b[0;34m\u001b[0m\u001b[0m\n\u001b[0m\u001b[1;32m      6\u001b[0m \u001b[0mdz\u001b[0m \u001b[0;34m=\u001b[0m \u001b[0mnp\u001b[0m\u001b[0;34m.\u001b[0m\u001b[0marray\u001b[0m\u001b[0;34m(\u001b[0m\u001b[0;34m[\u001b[0m\u001b[0;36m0.4\u001b[0m\u001b[0;34m,\u001b[0m \u001b[0;36m0.5\u001b[0m\u001b[0;34m]\u001b[0m\u001b[0;34m)\u001b[0m\u001b[0;34m\u001b[0m\u001b[0m\n\u001b[1;32m      7\u001b[0m \u001b[0mdz\u001b[0m \u001b[0;34m=\u001b[0m \u001b[0md\u001b[0m\u001b[0;34m.\u001b[0m\u001b[0mbackward\u001b[0m\u001b[0;34m(\u001b[0m\u001b[0mdz\u001b[0m\u001b[0;34m)\u001b[0m\u001b[0;34m\u001b[0m\u001b[0m\n",
      "\u001b[0;31mAttributeError\u001b[0m: 'NoneType' object has no attribute 'shape'"
     ]
    }
   ],
   "source": [
    "# Проверяем, что размерности соблюдаются правильно\n",
    "d = Dense(3, 2) # слой сети\n",
    "x = np.array([0.1, 0.2, 0.3])\n",
    "r = d.forward(x)  # чтобы вызвать backward, надо вызвать forward\n",
    "print(r.shape, 'must be', (2,))\n",
    "dz = np.array([0.4, 0.5]) # градиент на выходе\n",
    "dz = d.backward(dz) # градиент на входе. Пересчитали обратную связь и градиенты\n",
    "print(dz.shape, 'must be', (3,))"
   ]
  },
  {
   "cell_type": "markdown",
   "metadata": {},
   "source": [
    "### Нелинейная функция активации: ReLu"
   ]
  },
  {
   "cell_type": "markdown",
   "metadata": {},
   "source": [
    "$$\n",
    "ReLu = max(0, Dense(x))\n",
    "$$"
   ]
  },
  {
   "cell_type": "code",
   "execution_count": 5,
   "metadata": {
    "collapsed": true
   },
   "outputs": [],
   "source": [
    "class Max:\n",
    "    \n",
    "    def forward(self, x):\n",
    "        self.x = x\n",
    "        return np.maximum(0, x)\n",
    "    \n",
    "    def backward(self, dz, lr=0.1):\n",
    "        dz[self.x < 0] = 0\n",
    "        return dz"
   ]
  },
  {
   "cell_type": "markdown",
   "metadata": {},
   "source": [
    "### Softmax"
   ]
  },
  {
   "cell_type": "markdown",
   "metadata": {},
   "source": [
    "Бонус-треком можете реализовать вычисление softmax слоя\n",
    "\n",
    "$$\n",
    "\\frac {\\partial }{\\partial x_{k}}\\sigma_i (x) =\\sigma_i (x)(\\delta _{ik}-\\sigma_k (x))\n",
    "$$\n",
    "где $\\delta _{ik}$ это дельта Кронекера\n",
    "$$\n",
    "\\delta _{{ij}}={\\begin{cases}0&{\\text{if }}i\\neq j,\\\\1&{\\text{if }}i=j.\\end{cases}}\n",
    "$$"
   ]
  },
  {
   "cell_type": "code",
   "execution_count": 6,
   "metadata": {
    "collapsed": true
   },
   "outputs": [],
   "source": [
    "class Softmax:\n",
    "    \n",
    "    def forward(self, x):\n",
    "        self.x = x\n",
    "        exps = np.exp(x)\n",
    "        return exps / np.sum(exps)\n",
    "    \n",
    "    def backward(self, dz, lr=0.001):\n",
    "        sm = self.forward(self.x)\n",
    "        self.lp = (np.eye(sm.shape[0], sm.shape[0]) - sm).T\n",
    "        self.lp2 = sm * self.lp\n",
    "        return np.dot(dz, self.lp2)"
   ]
  },
  {
   "cell_type": "code",
   "execution_count": 7,
   "metadata": {},
   "outputs": [
    {
     "name": "stdout",
     "output_type": "stream",
     "text": [
      "[ 0.5005  0.4995]\n",
      "dz [ 0.4999995 -0.4999995]\n",
      "[[ 0.4995 -0.5005]\n",
      " [-0.4995  0.5005]]\n",
      "[[ 0.24999975 -0.24999975]\n",
      " [-0.24999975  0.24999975]]\n"
     ]
    }
   ],
   "source": [
    "# Код для проверки\n",
    "x = np.array([0.001, -0.001])\n",
    "s = Softmax()\n",
    "sm = s.forward(x)\n",
    "print(sm)\n",
    "dz = np.array([0, -2.])\n",
    "print('dz', s.backward(dz))\n",
    "print(s.lp)\n",
    "print(s.lp2)"
   ]
  },
  {
   "cell_type": "markdown",
   "metadata": {},
   "source": [
    "### TODO Loss: кросс-энтропия"
   ]
  },
  {
   "cell_type": "markdown",
   "metadata": {},
   "source": [
    "Напомню, кросс-энтропия выражается как\n",
    "$$\n",
    "L = -\\sum_i y_i \\log \\hat{y}_i\n",
    "$$\n",
    "\n",
    "Градиент вычисляется следующим образом:\n",
    "$$\n",
    "\\frac {\\partial }{\\partial \\hat{y}_{i}} L = -\\frac{y_i}{\\hat{y}_i}\n",
    "$$"
   ]
  },
  {
   "cell_type": "code",
   "execution_count": 8,
   "metadata": {
    "collapsed": true
   },
   "outputs": [],
   "source": [
    "class CrossEntropy:\n",
    "    \n",
    "    def forward(self, y_true, y_hat):\n",
    "        #TODO\n",
    "        pass\n",
    "    \n",
    "    def backward(self, dz, lr=0.001):\n",
    "        #TODO\n",
    "        pass"
   ]
  },
  {
   "cell_type": "markdown",
   "metadata": {},
   "source": [
    "# Тест 0 - самая тупая сеть\n",
    "\n",
    "Строим функцию $f(x)=x$. Составим сеть из одного полносвязного и одного softmax слоя."
   ]
  },
  {
   "cell_type": "code",
   "execution_count": 9,
   "metadata": {
    "collapsed": true
   },
   "outputs": [],
   "source": [
    "X = np.array([[1., 0],\n",
    "              [0,  1.]])\n",
    "Y = np.array([[1., 0],\n",
    "              [0,  1.]])"
   ]
  },
  {
   "cell_type": "code",
   "execution_count": 10,
   "metadata": {
    "collapsed": true
   },
   "outputs": [],
   "source": [
    "class IdentityNet:\n",
    "    \n",
    "    def __init__(self):\n",
    "        self.d = Dense(2, 2) \n",
    "        self.s = Softmax()\n",
    "        \n",
    "    def forward(self, x):\n",
    "        self.x = x\n",
    "        net = self.d.forward(x)\n",
    "        net = self.s.forward(net)\n",
    "        return net\n",
    "    \n",
    "    def backward(self, dz, lr=0.001):\n",
    "        dz = self.s.backward(dz, lr)\n",
    "        dz = self.d.backward(dz, lr)\n",
    "        return dz"
   ]
  },
  {
   "cell_type": "code",
   "execution_count": 11,
   "metadata": {
    "collapsed": true
   },
   "outputs": [],
   "source": [
    "net = IdentityNet()\n",
    "L_iter = []"
   ]
  },
  {
   "cell_type": "code",
   "execution_count": 12,
   "metadata": {},
   "outputs": [
    {
     "name": "stdout",
     "output_type": "stream",
     "text": [
      "[ 0.95114643  0.04885357] [ 0.05347249  0.94652751]\n"
     ]
    },
    {
     "data": {
      "image/png": "[encoded data removed]",
      "text/plain": [
       "<matplotlib.figure.Figure at 0x7f14271ddda0>"
      ]
     },
     "metadata": {},
     "output_type": "display_data"
    }
   ],
   "source": [
    "# Инициализируем loss, его удобнее хранить в теле обучения\n",
    "loss = CrossEntropy() \n",
    "lr = 0.1 # скорость обучения\n",
    "for iter in range(100): # эпохи = полный проход по датасету\n",
    "    L_acc = 0.\n",
    "    for i in range(X.shape[0]):\n",
    "        x = X[i]\n",
    "        y = Y[i]\n",
    "        #TODO Реализуйте бэкпроп тут, стараясь не подглядывать дальше ;)\n",
    "    L_iter.append(L_acc) # коллекционируем loss\n",
    "plt.plot(L_iter) # посмотрим на кривую обучения\n",
    "print( net.forward(X[0]), net.forward(X[1])) # проверим глазами, что обучились"
   ]
  },
  {
   "cell_type": "markdown",
   "metadata": {},
   "source": [
    "# Тест 1 - XOR\n",
    "\n",
    "<img src=\"./imgs/10.png\" width=200>"
   ]
  },
  {
   "cell_type": "code",
   "execution_count": 13,
   "metadata": {
    "collapsed": true
   },
   "outputs": [],
   "source": [
    "X = np.array([[-1, -1],\n",
    "              [1, -1],\n",
    "              [-1, 1],\n",
    "              [1, 1]], dtype='float')\n",
    "\n",
    "Y = np.array([[1, 0],\n",
    "              [0, 1],\n",
    "              [0, 1],\n",
    "              [1, 0]], dtype='float')\n"
   ]
  },
  {
   "cell_type": "markdown",
   "metadata": {},
   "source": [
    "Давайте сделаем сеть следующей конфигурации:\n",
    "$$\n",
    "x_2 \\rightarrow D_{2x10} \\rightarrow ReLu \\rightarrow D_{10x2} \\rightarrow softmax\n",
    "$$\n",
    "где $D_{2x10}$ полносвязный слой со входом размерностью 2 и выходом 10."
   ]
  },
  {
   "cell_type": "code",
   "execution_count": 14,
   "metadata": {
    "collapsed": true
   },
   "outputs": [],
   "source": [
    "class XorNet:\n",
    "    \n",
    "    def __init__(self):\n",
    "        self.d1 = Dense(2, 10)\n",
    "        self.a1 = Max()\n",
    "        self.d2 = Dense(10, 2)\n",
    "        self.sm = Softmax()\n",
    "        \n",
    "    def forward(self, x):\n",
    "        net = self.d1.forward(x)\n",
    "        net = self.a1.forward(net)\n",
    "        net = self.d2.forward(net)\n",
    "        net = self.sm.forward(net)\n",
    "        self.net = net\n",
    "        return net\n",
    "    \n",
    "    def backward(self, dz, lr=0.1):\n",
    "        dz = self.sm.backward(dz, lr)\n",
    "        dz = self.d2.backward(dz, lr)\n",
    "        dz = self.a1.backward(dz, lr)\n",
    "        dz = self.d1.backward(dz, lr)\n",
    "        return dz"
   ]
  },
  {
   "cell_type": "code",
   "execution_count": 15,
   "metadata": {
    "collapsed": true
   },
   "outputs": [],
   "source": [
    "net = XorNet()"
   ]
  },
  {
   "cell_type": "code",
   "execution_count": 16,
   "metadata": {},
   "outputs": [
    {
     "name": "stdout",
     "output_type": "stream",
     "text": [
      "[ 0.99169998  0.00830002] [ 1.  0.]\n",
      "[ 0.00953793  0.99046207] [ 0.  1.]\n",
      "[ 0.01524403  0.98475597] [ 0.  1.]\n",
      "[ 0.98368023  0.01631977] [ 1.  0.]\n"
     ]
    },
    {
     "data": {
      "image/png": "[encoded data removed]",
      "text/plain": [
       "<matplotlib.figure.Figure at 0x7f14595e1438>"
      ]
     },
     "metadata": {},
     "output_type": "display_data"
    }
   ],
   "source": [
    "loss = CrossEntropy()\n",
    "lr = 0.1\n",
    "L_iter = []\n",
    "for iter in range(100):\n",
    "    L_acc = 0.\n",
    "    for i in range(X.shape[0]):\n",
    "        x = X[i]\n",
    "        y = Y[i]\n",
    "        y_h = net.forward(x)\n",
    "        L = loss.forward(y, y_h)\n",
    "        L_acc += L\n",
    "        dz = loss.backward(1, lr)\n",
    "        dz = net.backward(dz, lr)\n",
    "    L_iter.append(L_acc)\n",
    "plt.plot(L_iter)\n",
    "for i in range(4):\n",
    "    print(net.forward(X[i]), Y[i])"
   ]
  },
  {
   "cell_type": "markdown",
   "metadata": {},
   "source": [
    "# Тест 3 - MNIST"
   ]
  },
  {
   "cell_type": "code",
   "execution_count": 17,
   "metadata": {},
   "outputs": [
    {
     "name": "stdout",
     "output_type": "stream",
     "text": [
      "(70000, 784)\n"
     ]
    }
   ],
   "source": [
    "from sklearn.datasets import fetch_mldata\n",
    "mnist = fetch_mldata('MNIST original', data_home='./')\n",
    "X = mnist['data']\n",
    "print(X.shape)"
   ]
  },
  {
   "cell_type": "code",
   "execution_count": 18,
   "metadata": {},
   "outputs": [
    {
     "data": {
      "image/png": "[encoded data removed]",
      "text/plain": [
       "<matplotlib.figure.Figure at 0x7f14173ebd68>"
      ]
     },
     "metadata": {},
     "output_type": "display_data"
    }
   ],
   "source": [
    "n=4\n",
    "for i in range(n*n):\n",
    "    plt.subplot(n,n,i+1)\n",
    "    I = X[np.random.randint(0, X.shape[0]),:]\n",
    "    I = I.reshape((28, 28))\n",
    "    plt.imshow(I, cmap='gray')"
   ]
  },
  {
   "cell_type": "code",
   "execution_count": 19,
   "metadata": {},
   "outputs": [
    {
     "data": {
      "text/plain": [
       "[<matplotlib.lines.Line2D at 0x7f141353db70>]"
      ]
     },
     "execution_count": 19,
     "metadata": {},
     "output_type": "execute_result"
    },
    {
     "data": {
      "image/png": "[encoded data removed]",
      "text/plain": [
       "<matplotlib.figure.Figure at 0x7f1424e55cc0>"
      ]
     },
     "metadata": {},
     "output_type": "display_data"
    },
    {
     "data": {
      "image/png": "[encoded data removed]",
      "text/plain": [
       "<matplotlib.figure.Figure at 0x7f1424e55e80>"
      ]
     },
     "metadata": {},
     "output_type": "display_data"
    }
   ],
   "source": [
    "X = X.astype('float')\n",
    "Xm = np.mean(X, axis=0)\n",
    "Xs = np.std(X, axis=0)\n",
    "X=(X - Xm) / (Xs + 0.0001)\n",
    "plt.imshow(Xm.reshape((28, 28)))\n",
    "plt.figure()\n",
    "plt.plot(X[0].reshape((28, 28))[14])"
   ]
  },
  {
   "cell_type": "code",
   "execution_count": 20,
   "metadata": {},
   "outputs": [
    {
     "name": "stdout",
     "output_type": "stream",
     "text": [
      "original [ 0.  0.  0. ...,  9.  9.  9.]\n",
      "one hot [[ 1.  0.  0. ...,  0.  0.  0.]\n",
      " [ 1.  0.  0. ...,  0.  0.  0.]\n",
      " [ 1.  0.  0. ...,  0.  0.  0.]\n",
      " ..., \n",
      " [ 0.  0.  0. ...,  0.  0.  1.]\n",
      " [ 0.  0.  0. ...,  0.  0.  1.]\n",
      " [ 0.  0.  0. ...,  0.  0.  1.]]\n"
     ]
    }
   ],
   "source": [
    "from sklearn.preprocessing import OneHotEncoder\n",
    "\n",
    "Y = mnist['target']\n",
    "print('original', Y)\n",
    "t = OneHotEncoder(sparse=False)\n",
    "Y = t.fit_transform(Y.reshape(-1, 1))\n",
    "print('one hot', Y)"
   ]
  },
  {
   "cell_type": "markdown",
   "metadata": {},
   "source": [
    "Здесь мы будем использовать простую сеть с одним полносвязным слоем и softmax выходом."
   ]
  },
  {
   "cell_type": "code",
   "execution_count": 21,
   "metadata": {
    "collapsed": true
   },
   "outputs": [],
   "source": [
    "class MnistNet:\n",
    "    \n",
    "    def __init__(self):\n",
    "        self.d = Dense(784, 10)\n",
    "        self.s = Softmax()\n",
    "        \n",
    "    def forward(self, x):\n",
    "        net = self.d.forward(x)\n",
    "        net = self.s.forward(net)\n",
    "        return net\n",
    "    \n",
    "    def backward(self, dz, lr):\n",
    "        dz = self.s.backward(dz, lr)\n",
    "        dz = self.d.backward(dz, lr)\n",
    "        return dz"
   ]
  },
  {
   "cell_type": "code",
   "execution_count": 22,
   "metadata": {
    "collapsed": true
   },
   "outputs": [],
   "source": [
    "net = MnistNet()"
   ]
  },
  {
   "cell_type": "code",
   "execution_count": 23,
   "metadata": {},
   "outputs": [
    {
     "data": {
      "text/plain": [
       "[<matplotlib.lines.Line2D at 0x7f1412b61fd0>]"
      ]
     },
     "execution_count": 23,
     "metadata": {},
     "output_type": "execute_result"
    },
    {
     "data": {
      "image/png": "[encoded data removed]",
      "text/plain": [
       "<matplotlib.figure.Figure at 0x7f1424e26390>"
      ]
     },
     "metadata": {},
     "output_type": "display_data"
    }
   ],
   "source": [
    "loss = CrossEntropy()\n",
    "lr = 0.001\n",
    "L_iter = []\n",
    "for iter in range(20):\n",
    "    L_acc = 0.\n",
    "    sh = list(range(X.shape[0])) # больше рандома богу рандома\n",
    "    np.random.shuffle(sh)\n",
    "    for i in range(X.shape[0]):\n",
    "        x = X[sh[i]]\n",
    "        y = Y[sh[i]]\n",
    "        y_h = net.forward(x)\n",
    "        L = loss.forward(y, y_h)\n",
    "        L_acc += L\n",
    "        dz = loss.backward(1, lr)\n",
    "        dz = net.backward(dz, lr)\n",
    "        \n",
    "    L_iter.append(L_acc)\n",
    "plt.plot(L_iter)"
   ]
  },
  {
   "cell_type": "code",
   "execution_count": 24,
   "metadata": {},
   "outputs": [
    {
     "data": {
      "image/png": "[encoded data removed]",
      "text/plain": [
       "<matplotlib.figure.Figure at 0x7f1412bd69e8>"
      ]
     },
     "metadata": {},
     "output_type": "display_data"
    }
   ],
   "source": [
    "plt.figure(figsize=(6,6))\n",
    "\n",
    "sh = list(range(X.shape[0]))\n",
    "np.random.shuffle(sh)\n",
    "\n",
    "n = 3\n",
    "for i in range(n*n):\n",
    "    ax = plt.subplot(n, n, i+1)\n",
    "\n",
    "    j = sh[i]\n",
    "    R = np.argmax(Y[j])\n",
    "    P = net.forward(X[j])\n",
    "    Rp = np.argmax(P)\n",
    "\n",
    "    ax.set_title('%s = %.2f R:%s' % (Rp, P[Rp], R))\n",
    "    ax.set_axis_off()\n",
    "    plt.imshow(X[j].reshape((28, 28)))\n"
   ]
  },
  {
   "cell_type": "code",
   "execution_count": 25,
   "metadata": {},
   "outputs": [
    {
     "data": {
      "image/png": "[encoded data removed]",
      "text/plain": [
       "<matplotlib.figure.Figure at 0x7f14133db4e0>"
      ]
     },
     "metadata": {},
     "output_type": "display_data"
    }
   ],
   "source": [
    "plt.figure(figsize=(6,6))\n",
    "\n",
    "n = 3\n",
    "for i in range(1, 10):\n",
    "    ax = plt.subplot(n, n, i)\n",
    "    ax.set_title('%s' % i)\n",
    "    ax.set_axis_off()\n",
    "    plt.imshow( net.d.W[i].reshape((28, 28)).T, cmap='gray' )"
   ]
  },
  {
   "cell_type": "markdown",
   "metadata": {},
   "source": [
    "# Pytorch. Autograd.\n",
    "\n",
    "Переходим в другой ноутбук.\n",
    "1. [Pytorch. Что такое тензор.](./tensor_tutorial1.ipynb)\n",
    "2. [Pytorch. Autograd.](./autograd_tutorial1.ipynb)"
   ]
  },
  {
   "cell_type": "markdown",
   "metadata": {},
   "source": [
    "# Органическая нейронная сеть"
   ]
  },
  {
   "cell_type": "markdown",
   "metadata": {},
   "source": [
    "## Нейрон\n",
    "<img src=\"./imgs/7.jpg\">"
   ]
  },
  {
   "cell_type": "markdown",
   "metadata": {},
   "source": [
    "## Миниколонка кортекса\n",
    "- 80-160 нейронов\n",
    "- 6 слоев\n",
    "- четкая структура\n",
    "<img src=\"./imgs/8.jpg\">\n",
    "<img src=\"./imgs/9.jpg\">"
   ]
  },
  {
   "cell_type": "markdown",
   "metadata": {},
   "source": [
    "## Коннектом\n",
    "<img src=\"./imgs/11.png\">"
   ]
  },
  {
   "cell_type": "markdown",
   "metadata": {},
   "source": [
    "## Импульсная модуляция"
   ]
  },
  {
   "cell_type": "markdown",
   "metadata": {},
   "source": [
    "<img src=\"./imgs/12.jpg\">"
   ]
  },
  {
   "cell_type": "markdown",
   "metadata": {},
   "source": [
    "<img src=\"./imgs/12.png\" width=300>"
   ]
  },
  {
   "cell_type": "code",
   "execution_count": 26,
   "metadata": {
    "scrolled": true
   },
   "outputs": [
    {
     "data": {
      "text/html": [
       "<iframe width=\"560\" height=\"315\" src=\"https://www.youtube.com/embed/Cw5PKV9Rj3o?rel=0&amp;showinfo=0\" frameborder=\"0\" allowfullscreen></iframe>"
      ],
      "text/plain": [
       "<IPython.core.display.HTML object>"
      ]
     },
     "execution_count": 26,
     "metadata": {},
     "output_type": "execute_result"
    }
   ],
   "source": [
    "from IPython.display import HTML\n",
    "HTML('<iframe width=\"560\" height=\"315\" src=\"https://www.youtube.com/embed/Cw5PKV9Rj3o?rel=0&amp;showinfo=0\" frameborder=\"0\" allowfullscreen></iframe>')"
   ]
  },
  {
   "cell_type": "markdown",
   "metadata": {},
   "source": [
    "# Чеклист"
   ]
  },
  {
   "cell_type": "markdown",
   "metadata": {},
   "source": [
    "- устройство многослойного персептрона\n",
    "- слои: полносвязный, ReLu, Softmax, CrossEntropy\n",
    "- chain rule\n",
    "- правило дифференцирования сложной функции\n",
    "- алгоритм обратного распространения ошибки\n",
    "- почему при обучении сеть потребляет больше памяти, чем при выводе"
   ]
  },
  {
   "cell_type": "markdown",
   "metadata": {},
   "source": [
    "# Почитать"
   ]
  },
  {
   "cell_type": "markdown",
   "metadata": {},
   "source": [
    "Backprop: лекция в cs231n\n",
    "- почитать: http://cs231n.github.io/optimization-2/\n",
    "- посмотреть: https://www.youtube.com/watch?v=d14TUNcbn1k\n",
    "\n",
    "Устройство мозга\n",
    "- медицина: https://www.coursera.org/learn/medical-neuroscience\n",
    "- информатика: https://www.coursera.org/learn/computational-neuroscience\n",
    "\n",
    "Нейроморфные процессоры\n",
    "- IBM SyNAPSE chip: http://research.ibm.com/cognitive-computing/neurosynaptic-chips.shtml"
   ]
  }
 ],
 "metadata": {
  "kernelspec": {
   "display_name": "Python 3",
   "language": "python",
   "name": "python3"
  },
  "language_info": {
   "codemirror_mode": {
    "name": "ipython",
    "version": 3
   },
   "file_extension": ".py",
   "mimetype": "text/x-python",
   "name": "python",
   "nbconvert_exporter": "python",
   "pygments_lexer": "ipython3",
   "version": "3.6.2"
  }
 },
 "nbformat": 4,
 "nbformat_minor": 2
}
