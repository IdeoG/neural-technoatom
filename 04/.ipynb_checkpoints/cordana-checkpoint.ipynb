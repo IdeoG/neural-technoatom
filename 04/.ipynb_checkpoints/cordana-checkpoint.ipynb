{
 "cells": [
  {
   "cell_type": "code",
   "execution_count": 2,
   "metadata": {},
   "outputs": [
    {
     "name": "stdout",
     "output_type": "stream",
     "text": [
      "Net (\n",
      "  (net): Sequential (\n",
      "    (0): Sequential (\n",
      "      (0): Conv2d(3, 32, kernel_size=(3, 3), stride=(1, 1), padding=(1, 1))\n",
      "      (1): BatchNorm2d(32, eps=1e-05, momentum=0.1, affine=True)\n",
      "      (2): ReLU (inplace)\n",
      "    )\n",
      "    (1): MaxPool2d (size=(2, 2), stride=(2, 2), dilation=(1, 1))\n",
      "    (2): Sequential (\n",
      "      (0): Conv2d(32, 64, kernel_size=(3, 3), stride=(1, 1), padding=(1, 1))\n",
      "      (1): BatchNorm2d(64, eps=1e-05, momentum=0.1, affine=True)\n",
      "      (2): ReLU (inplace)\n",
      "    )\n",
      "    (3): MaxPool2d (size=(2, 2), stride=(2, 2), dilation=(1, 1))\n",
      "    (4): Sequential (\n",
      "      (0): Conv2d(64, 128, kernel_size=(3, 3), stride=(1, 1), padding=(1, 1))\n",
      "      (1): BatchNorm2d(128, eps=1e-05, momentum=0.1, affine=True)\n",
      "      (2): ReLU (inplace)\n",
      "    )\n",
      "    (5): Sequential (\n",
      "      (0): Conv2d(128, 64, kernel_size=(3, 3), stride=(1, 1), padding=(1, 1))\n",
      "      (1): BatchNorm2d(64, eps=1e-05, momentum=0.1, affine=True)\n",
      "      (2): ReLU (inplace)\n",
      "    )\n",
      "    (6): UpsamplingBilinear2d(size=112, mode=bilinear)\n",
      "    (7): Sequential (\n",
      "      (0): Conv2d(64, 32, kernel_size=(3, 3), stride=(1, 1), padding=(1, 1))\n",
      "      (1): BatchNorm2d(32, eps=1e-05, momentum=0.1, affine=True)\n",
      "      (2): ReLU (inplace)\n",
      "    )\n",
      "    (8): UpsamplingBilinear2d(size=224, mode=bilinear)\n",
      "    (9): Sequential (\n",
      "      (0): Conv2d(32, 1, kernel_size=(3, 3), stride=(1, 1), padding=(1, 1))\n",
      "      (1): BatchNorm2d(1, eps=1e-05, momentum=0.1, affine=True)\n",
      "      (2): ReLU (inplace)\n",
      "    )\n",
      "    (10): Sigmoid ()\n",
      "  )\n",
      ")\n"
     ]
    }
   ],
   "source": [
    "import torch\n",
    "import torch.nn as nn\n",
    "from torch.autograd import Variable\n",
    "import torch.nn.functional as F\n",
    "from torch.autograd import Variable\n",
    "import torch.optim as optim\n",
    "from  tqdm import *\n",
    "\n",
    "def conv_bn_relu(in_planes, out_planes, kernel=3, stride=1, padding=1):\n",
    "    net = nn.Sequential(nn.Conv2d(in_planes, out_planes, kernel_size=kernel, stride=stride, padding=1),\n",
    "                         nn.BatchNorm2d(num_features=out_planes),\n",
    "                         nn.ReLU(True))\n",
    "    return net;\n",
    "\n",
    "class Net(nn.Module):\n",
    "    \n",
    "    def __init__(self, in_size=3):\n",
    "        super(Net, self).__init__()\n",
    "        \n",
    "        self.net = nn.Sequential(conv_bn_relu(in_size, 32),\n",
    "                      nn.MaxPool2d(2,2),\n",
    "                      conv_bn_relu(32, 64),\n",
    "                      nn.MaxPool2d(2, 2),\n",
    "                      conv_bn_relu(64, 128),\n",
    "                      conv_bn_relu(128, 64),\n",
    "                      nn.UpsamplingBilinear2d(112), #?\n",
    "                      conv_bn_relu(64, 32),\n",
    "                      nn.UpsamplingBilinear2d(224),\n",
    "                      conv_bn_relu(32, 1),\n",
    "                      nn.Sigmoid()\n",
    "                      )\n",
    "\n",
    "    def forward(self, input):\n",
    "        return self.net(input)\n",
    "\n",
    "net = Net()\n",
    "print(net)"
   ]
  },
  {
   "cell_type": "code",
   "execution_count": null,
   "metadata": {},
   "outputs": [],
   "source": []
  }
 ],
 "metadata": {
  "kernelspec": {
   "display_name": "Python 3",
   "language": "python",
   "name": "python3"
  },
  "language_info": {
   "codemirror_mode": {
    "name": "ipython",
    "version": 3
   },
   "file_extension": ".py",
   "mimetype": "text/x-python",
   "name": "python",
   "nbconvert_exporter": "python",
   "pygments_lexer": "ipython3",
   "version": "3.5.2"
  }
 },
 "nbformat": 4,
 "nbformat_minor": 2
}
